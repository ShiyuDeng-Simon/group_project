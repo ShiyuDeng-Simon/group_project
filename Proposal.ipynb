{
 "cells": [
  {
   "cell_type": "markdown",
   "id": "c481b43f-f69f-4e1f-a235-106dae89cb3a",
   "metadata": {},
   "source": [
    "#### Introduction\n",
    "\n",
    "Heart failure occurs when the damaged or weakened heart muscle is unbale to pump blood efficiently to meet body’s needs. According to mayo clinic, the risk factors of heart failure include but not limited to high blood pressure, diabetes, and smoking. This leads to the question of which predictor(s) are good for a model where given the information of a heart failure patient, are they going to survive or not after some period of time. To answer this question, we will build models to analyze the “Heart Failure Prediction” dataset on Public Library of Science, authoured by Tanvir Ahmad, Assia Munir, Sajjad Haider Bhatti, Muhammad Aftab, Muhammad Ali Raza in 2017. The 11 predictors we will use from the dataset are:\n",
    "* The patient’s age \n",
    "* Whether they have anaemia\n",
    "* Creatinine phosphokinase level in blood\n",
    "* Whether they have diabetes\n",
    "* Ejection fraction (percentage of blood leaving the heart at each contraction)\n",
    "* If the patient has high blood pressure\n",
    "* Platelets level in blood\n",
    "* Level of serum creatinine in blood\n",
    "* Level of serum sodium in blood\n",
    "* Sex (binary)\n",
    "* If the patient smokes"
   ]
  },
  {
   "cell_type": "markdown",
   "id": "a2820d5d-550c-4fea-b9df-e8fc01465fb2",
   "metadata": {},
   "source": [
    "Preliminary Exploratory Data Analysis"
   ]
  },
  {
   "cell_type": "code",
   "execution_count": 2,
   "id": "8ac581e3-ca8a-442a-98da-9f334af38fe1",
   "metadata": {},
   "outputs": [
    {
     "name": "stderr",
     "output_type": "stream",
     "text": [
      "── \u001b[1mAttaching packages\u001b[22m ─────────────────────────────────────── tidyverse 1.3.1 ──\n",
      "\n",
      "\u001b[32m✔\u001b[39m \u001b[34mggplot2\u001b[39m 3.3.6     \u001b[32m✔\u001b[39m \u001b[34mpurrr  \u001b[39m 0.3.4\n",
      "\u001b[32m✔\u001b[39m \u001b[34mtibble \u001b[39m 3.1.7     \u001b[32m✔\u001b[39m \u001b[34mdplyr  \u001b[39m 1.0.9\n",
      "\u001b[32m✔\u001b[39m \u001b[34mtidyr  \u001b[39m 1.2.0     \u001b[32m✔\u001b[39m \u001b[34mstringr\u001b[39m 1.4.0\n",
      "\u001b[32m✔\u001b[39m \u001b[34mreadr  \u001b[39m 2.1.2     \u001b[32m✔\u001b[39m \u001b[34mforcats\u001b[39m 0.5.1\n",
      "\n",
      "── \u001b[1mConflicts\u001b[22m ────────────────────────────────────────── tidyverse_conflicts() ──\n",
      "\u001b[31m✖\u001b[39m \u001b[34mdplyr\u001b[39m::\u001b[32mfilter()\u001b[39m masks \u001b[34mstats\u001b[39m::filter()\n",
      "\u001b[31m✖\u001b[39m \u001b[34mdplyr\u001b[39m::\u001b[32mlag()\u001b[39m    masks \u001b[34mstats\u001b[39m::lag()\n",
      "\n",
      "── \u001b[1mAttaching packages\u001b[22m ────────────────────────────────────── tidymodels 1.0.0 ──\n",
      "\n",
      "\u001b[32m✔\u001b[39m \u001b[34mbroom       \u001b[39m 1.0.0     \u001b[32m✔\u001b[39m \u001b[34mrsample     \u001b[39m 1.0.0\n",
      "\u001b[32m✔\u001b[39m \u001b[34mdials       \u001b[39m 1.0.0     \u001b[32m✔\u001b[39m \u001b[34mtune        \u001b[39m 1.0.0\n",
      "\u001b[32m✔\u001b[39m \u001b[34minfer       \u001b[39m 1.0.2     \u001b[32m✔\u001b[39m \u001b[34mworkflows   \u001b[39m 1.0.0\n",
      "\u001b[32m✔\u001b[39m \u001b[34mmodeldata   \u001b[39m 1.0.0     \u001b[32m✔\u001b[39m \u001b[34mworkflowsets\u001b[39m 1.0.0\n",
      "\u001b[32m✔\u001b[39m \u001b[34mparsnip     \u001b[39m 1.0.0     \u001b[32m✔\u001b[39m \u001b[34myardstick   \u001b[39m 1.0.0\n",
      "\u001b[32m✔\u001b[39m \u001b[34mrecipes     \u001b[39m 1.0.1     \n",
      "\n",
      "── \u001b[1mConflicts\u001b[22m ───────────────────────────────────────── tidymodels_conflicts() ──\n",
      "\u001b[31m✖\u001b[39m \u001b[34mscales\u001b[39m::\u001b[32mdiscard()\u001b[39m masks \u001b[34mpurrr\u001b[39m::discard()\n",
      "\u001b[31m✖\u001b[39m \u001b[34mdplyr\u001b[39m::\u001b[32mfilter()\u001b[39m   masks \u001b[34mstats\u001b[39m::filter()\n",
      "\u001b[31m✖\u001b[39m \u001b[34mrecipes\u001b[39m::\u001b[32mfixed()\u001b[39m  masks \u001b[34mstringr\u001b[39m::fixed()\n",
      "\u001b[31m✖\u001b[39m \u001b[34mdplyr\u001b[39m::\u001b[32mlag()\u001b[39m      masks \u001b[34mstats\u001b[39m::lag()\n",
      "\u001b[31m✖\u001b[39m \u001b[34myardstick\u001b[39m::\u001b[32mspec()\u001b[39m masks \u001b[34mreadr\u001b[39m::spec()\n",
      "\u001b[31m✖\u001b[39m \u001b[34mrecipes\u001b[39m::\u001b[32mstep()\u001b[39m   masks \u001b[34mstats\u001b[39m::step()\n",
      "\u001b[34m•\u001b[39m Use suppressPackageStartupMessages() to eliminate package startup messages\n",
      "\n"
     ]
    }
   ],
   "source": [
    "# import libraries for R functions\n",
    "\n",
    "library(repr)\n",
    "library(tidyverse)\n",
    "library(tidymodels)\n",
    "options(repr.matrix.max.rows = 6)"
   ]
  },
  {
   "cell_type": "code",
   "execution_count": 11,
   "id": "d364888f-31d9-4cf9-9ba1-68e04ea77ae8",
   "metadata": {},
   "outputs": [
    {
     "name": "stderr",
     "output_type": "stream",
     "text": [
      "\u001b[1mRows: \u001b[22m\u001b[34m299\u001b[39m \u001b[1mColumns: \u001b[22m\u001b[34m13\u001b[39m\n",
      "\u001b[36m──\u001b[39m \u001b[1mColumn specification\u001b[22m \u001b[36m────────────────────────────────────────────────────────\u001b[39m\n",
      "\u001b[1mDelimiter:\u001b[22m \",\"\n",
      "\u001b[32mdbl\u001b[39m (13): age, anaemia, creatinine_phosphokinase, diabetes, ejection_fractio...\n",
      "\n",
      "\u001b[36mℹ\u001b[39m Use `spec()` to retrieve the full column specification for this data.\n",
      "\u001b[36mℹ\u001b[39m Specify the column types or set `show_col_types = FALSE` to quiet this message.\n"
     ]
    },
    {
     "data": {
      "text/html": [
       "<table class=\"dataframe\">\n",
       "<caption>A spec_tbl_df: 299 × 13</caption>\n",
       "<thead>\n",
       "\t<tr><th scope=col>age</th><th scope=col>anaemia</th><th scope=col>creatinine_phosphokinase</th><th scope=col>diabetes</th><th scope=col>ejection_fraction</th><th scope=col>high_blood_pressure</th><th scope=col>platelets</th><th scope=col>serum_creatinine</th><th scope=col>serum_sodium</th><th scope=col>sex</th><th scope=col>smoking</th><th scope=col>time</th><th scope=col>DEATH_EVENT</th></tr>\n",
       "\t<tr><th scope=col>&lt;dbl&gt;</th><th scope=col>&lt;dbl&gt;</th><th scope=col>&lt;dbl&gt;</th><th scope=col>&lt;dbl&gt;</th><th scope=col>&lt;dbl&gt;</th><th scope=col>&lt;dbl&gt;</th><th scope=col>&lt;dbl&gt;</th><th scope=col>&lt;dbl&gt;</th><th scope=col>&lt;dbl&gt;</th><th scope=col>&lt;dbl&gt;</th><th scope=col>&lt;dbl&gt;</th><th scope=col>&lt;dbl&gt;</th><th scope=col>&lt;dbl&gt;</th></tr>\n",
       "</thead>\n",
       "<tbody>\n",
       "\t<tr><td>75</td><td>0</td><td> 582</td><td>0</td><td>20</td><td>1</td><td>265000</td><td>1.9</td><td>130</td><td>1</td><td>0</td><td>4</td><td>1</td></tr>\n",
       "\t<tr><td>55</td><td>0</td><td>7861</td><td>0</td><td>38</td><td>0</td><td>263358</td><td>1.1</td><td>136</td><td>1</td><td>0</td><td>6</td><td>1</td></tr>\n",
       "\t<tr><td>65</td><td>0</td><td> 146</td><td>0</td><td>20</td><td>0</td><td>162000</td><td>1.3</td><td>129</td><td>1</td><td>1</td><td>7</td><td>1</td></tr>\n",
       "\t<tr><td>⋮</td><td>⋮</td><td>⋮</td><td>⋮</td><td>⋮</td><td>⋮</td><td>⋮</td><td>⋮</td><td>⋮</td><td>⋮</td><td>⋮</td><td>⋮</td><td>⋮</td></tr>\n",
       "\t<tr><td>45</td><td>0</td><td>2060</td><td>1</td><td>60</td><td>0</td><td>742000</td><td>0.8</td><td>138</td><td>0</td><td>0</td><td>278</td><td>0</td></tr>\n",
       "\t<tr><td>45</td><td>0</td><td>2413</td><td>0</td><td>38</td><td>0</td><td>140000</td><td>1.4</td><td>140</td><td>1</td><td>1</td><td>280</td><td>0</td></tr>\n",
       "\t<tr><td>50</td><td>0</td><td> 196</td><td>0</td><td>45</td><td>0</td><td>395000</td><td>1.6</td><td>136</td><td>1</td><td>1</td><td>285</td><td>0</td></tr>\n",
       "</tbody>\n",
       "</table>\n"
      ],
      "text/latex": [
       "A spec\\_tbl\\_df: 299 × 13\n",
       "\\begin{tabular}{lllllllllllll}\n",
       " age & anaemia & creatinine\\_phosphokinase & diabetes & ejection\\_fraction & high\\_blood\\_pressure & platelets & serum\\_creatinine & serum\\_sodium & sex & smoking & time & DEATH\\_EVENT\\\\\n",
       " <dbl> & <dbl> & <dbl> & <dbl> & <dbl> & <dbl> & <dbl> & <dbl> & <dbl> & <dbl> & <dbl> & <dbl> & <dbl>\\\\\n",
       "\\hline\n",
       "\t 75 & 0 &  582 & 0 & 20 & 1 & 265000 & 1.9 & 130 & 1 & 0 & 4 & 1\\\\\n",
       "\t 55 & 0 & 7861 & 0 & 38 & 0 & 263358 & 1.1 & 136 & 1 & 0 & 6 & 1\\\\\n",
       "\t 65 & 0 &  146 & 0 & 20 & 0 & 162000 & 1.3 & 129 & 1 & 1 & 7 & 1\\\\\n",
       "\t ⋮ & ⋮ & ⋮ & ⋮ & ⋮ & ⋮ & ⋮ & ⋮ & ⋮ & ⋮ & ⋮ & ⋮ & ⋮\\\\\n",
       "\t 45 & 0 & 2060 & 1 & 60 & 0 & 742000 & 0.8 & 138 & 0 & 0 & 278 & 0\\\\\n",
       "\t 45 & 0 & 2413 & 0 & 38 & 0 & 140000 & 1.4 & 140 & 1 & 1 & 280 & 0\\\\\n",
       "\t 50 & 0 &  196 & 0 & 45 & 0 & 395000 & 1.6 & 136 & 1 & 1 & 285 & 0\\\\\n",
       "\\end{tabular}\n"
      ],
      "text/markdown": [
       "\n",
       "A spec_tbl_df: 299 × 13\n",
       "\n",
       "| age &lt;dbl&gt; | anaemia &lt;dbl&gt; | creatinine_phosphokinase &lt;dbl&gt; | diabetes &lt;dbl&gt; | ejection_fraction &lt;dbl&gt; | high_blood_pressure &lt;dbl&gt; | platelets &lt;dbl&gt; | serum_creatinine &lt;dbl&gt; | serum_sodium &lt;dbl&gt; | sex &lt;dbl&gt; | smoking &lt;dbl&gt; | time &lt;dbl&gt; | DEATH_EVENT &lt;dbl&gt; |\n",
       "|---|---|---|---|---|---|---|---|---|---|---|---|---|\n",
       "| 75 | 0 |  582 | 0 | 20 | 1 | 265000 | 1.9 | 130 | 1 | 0 | 4 | 1 |\n",
       "| 55 | 0 | 7861 | 0 | 38 | 0 | 263358 | 1.1 | 136 | 1 | 0 | 6 | 1 |\n",
       "| 65 | 0 |  146 | 0 | 20 | 0 | 162000 | 1.3 | 129 | 1 | 1 | 7 | 1 |\n",
       "| ⋮ | ⋮ | ⋮ | ⋮ | ⋮ | ⋮ | ⋮ | ⋮ | ⋮ | ⋮ | ⋮ | ⋮ | ⋮ |\n",
       "| 45 | 0 | 2060 | 1 | 60 | 0 | 742000 | 0.8 | 138 | 0 | 0 | 278 | 0 |\n",
       "| 45 | 0 | 2413 | 0 | 38 | 0 | 140000 | 1.4 | 140 | 1 | 1 | 280 | 0 |\n",
       "| 50 | 0 |  196 | 0 | 45 | 0 | 395000 | 1.6 | 136 | 1 | 1 | 285 | 0 |\n",
       "\n"
      ],
      "text/plain": [
       "    age anaemia creatinine_phosphokinase diabetes ejection_fraction\n",
       "1   75  0        582                     0        20               \n",
       "2   55  0       7861                     0        38               \n",
       "3   65  0        146                     0        20               \n",
       "⋮   ⋮   ⋮       ⋮                        ⋮        ⋮                \n",
       "297 45  0       2060                     1        60               \n",
       "298 45  0       2413                     0        38               \n",
       "299 50  0        196                     0        45               \n",
       "    high_blood_pressure platelets serum_creatinine serum_sodium sex smoking\n",
       "1   1                   265000    1.9              130          1   0      \n",
       "2   0                   263358    1.1              136          1   0      \n",
       "3   0                   162000    1.3              129          1   1      \n",
       "⋮   ⋮                   ⋮         ⋮                ⋮            ⋮   ⋮      \n",
       "297 0                   742000    0.8              138          0   0      \n",
       "298 0                   140000    1.4              140          1   1      \n",
       "299 0                   395000    1.6              136          1   1      \n",
       "    time DEATH_EVENT\n",
       "1   4    1          \n",
       "2   6    1          \n",
       "3   7    1          \n",
       "⋮   ⋮    ⋮          \n",
       "297 278  0          \n",
       "298 280  0          \n",
       "299 285  0          "
      ]
     },
     "metadata": {},
     "output_type": "display_data"
    }
   ],
   "source": [
    "# load data from the web\n",
    "url <- \"https://archive.ics.uci.edu/ml/machine-learning-databases/00519/heart_failure_clinical_records_dataset.csv\"\n",
    "original_data <- read_csv(url)\n",
    "original_data"
   ]
  },
  {
   "cell_type": "code",
   "execution_count": 146,
   "id": "6b0bd6bb-6e60-47a4-b1c2-dfc13ffb4bc6",
   "metadata": {},
   "outputs": [],
   "source": [
    "# turn binary variables into factors\n",
    "\n",
    "original_data <- original_data |>\n",
    "    mutate(anaemia = as_factor(anaemia),\n",
    "          diabetes = as_factor(diabetes),\n",
    "          high_blood_pressure = as_factor(high_blood_pressure),\n",
    "          platelets_num_per_mL = platelets/1000,\n",
    "          sex = as_factor(sex),\n",
    "          smoking = as_factor(smoking),\n",
    "          DEATH_EVENT = as_factor(DEATH_EVENT))\n",
    "\n",
    "# man is 1 in sex, woman is 0 since the paper said 194 men and 105 women, filtering for sex == 1 gives as 194 rows\n"
   ]
  },
  {
   "cell_type": "code",
   "execution_count": 147,
   "id": "51eed219-c68d-4331-8984-f452f938436f",
   "metadata": {},
   "outputs": [],
   "source": [
    "# split the data into training and testing sets\n",
    "\n",
    "set.seed(1625)\n",
    "\n",
    "# split the data for 75% training and 25% testing, roughly same ratio of survived to dead in both sets as the original\n",
    "data_split <- initial_split(original_data, prop = 0.75, strata = DEATH_EVENT)\n",
    "training_data <- training(data_split)\n",
    "testing_data <- testing(data_split)"
   ]
  },
  {
   "cell_type": "code",
   "execution_count": 179,
   "id": "6f4ef709-ff69-4391-8c77-5d683dc5f749",
   "metadata": {},
   "outputs": [],
   "source": [
    "# finding summary data of the training set\n",
    "\n",
    "# mean of numerical predictors among survived or dead patients\n",
    "\n",
    "numerical_preds <- c(\"Age\", \"Creatinine phosphokinase\", \"Ejection fraction\", \"Platelets (number/mL)\", \"Serum creatinine\",\n",
    "                    \"Serum sodium\", \"Follow-up period length\")\n",
    "\n",
    "# make a function to find the mean of the numerical predictors among the survived patients\n",
    "find_mean_survived <- function(dat) {\n",
    "    \n",
    "    result_list <- c()\n",
    "    \n",
    "    num_pred_only_data <- dat |> select(age, creatinine_phosphokinase, ejection_fraction, platelets_num_per_mL, \n",
    "                                        serum_creatinine, serum_sodium, time, DEATH_EVENT)\n",
    "    \n",
    "    for (i in 1:7) {\n",
    "        \n",
    "        curr_column <- num_pred_only_data[,i]\n",
    "        death_event_column <- num_pred_only_data[,length(num_pred_only_data)]\n",
    "        grouped_columns <- bind_cols(curr_column, death_event_column)\n",
    "        as_tibble(grouped_columns)\n",
    "        colnames(grouped_columns) <- c(\"Predictor\", \"Response\")\n",
    "        as_factor(grouped_columns$Response)\n",
    "        \n",
    "        result_list[i] <- mean(filter(grouped_columns, Response == 0)$Predictor, na.rm = TRUE)\n",
    "        #mean_summary_dead[i] <- mean(filter(grouped_columns, Response == 1)$Predictor, na.rm = TRUE)\n",
    "        \n",
    "    }\n",
    "    \n",
    "    result_list\n",
    "        \n",
    "}\n",
    "\n",
    "\n",
    "# make a function to find the mean of the numerical predictors among the dead patients\n",
    "find_mean_dead <- function(dat) {\n",
    "    \n",
    "    result_list <- c()\n",
    "    \n",
    "    num_pred_only_data <- dat |> select(age, creatinine_phosphokinase, ejection_fraction, platelets_num_per_mL, \n",
    "                                        serum_creatinine, serum_sodium, time, DEATH_EVENT)\n",
    "    \n",
    "    for (i in 1:7) {\n",
    "        \n",
    "        curr_column <- num_pred_only_data[,i]\n",
    "        death_event_column <- num_pred_only_data[,length(num_pred_only_data)]\n",
    "        grouped_columns <- bind_cols(curr_column, death_event_column)\n",
    "        as_tibble(grouped_columns)\n",
    "        colnames(grouped_columns) <- c(\"Predictor\", \"Response\")\n",
    "        as_factor(grouped_columns$Response)\n",
    "        \n",
    "        result_list[i] <- mean(filter(grouped_columns, Response == 1)$Predictor, na.rm = TRUE)\n",
    "        \n",
    "    }\n",
    "    \n",
    "    result_list\n",
    "        \n",
    "}\n",
    "\n",
    "# find the mean for each numerical predictors among the survived patients\n",
    "mean_summary_survived <- find_mean_survived(training_data)\n",
    "\n",
    "# find the mean for each numerical predictors among the dead patients\n",
    "mean_summary_dead <- find_mean_dead(training_data)\n",
    "\n",
    "\n",
    "\n",
    "# make a function to find the percentage of survived patients for each category of categorial variables\n",
    "\n",
    "categorical_preds <- c(\"Anaemia\", \"No anameia\", \"Diabetes\", \"No diabetes\", \"High blood pressure\", \n",
    "                       \"No high blood pressure\", \"Male\", \"Female\", \"Smoker\", \"Non-smoker\")\n",
    "\n",
    "\n",
    "find_ratio_yes <- function(dat) {\n",
    "    \n",
    "    result_list <- c()\n",
    "    \n",
    "    categ_pred_only_data <- dat |> \n",
    "        select(anaemia, diabetes, high_blood_pressure, sex, smoking, DEATH_EVENT)\n",
    "    \n",
    "    for (i in 1:5) {\n",
    "        \n",
    "        curr_column <- categ_pred_only_data[,i]\n",
    "        death_event_column <- categ_pred_only_data[,length(categ_pred_only_data)]\n",
    "        grouped_columns <- bind_cols(curr_column, death_event_column)\n",
    "        as_tibble(grouped_columns)\n",
    "        \n",
    "        colnames(grouped_columns) <- c(\"Predictor\", \"Response\")\n",
    "        \n",
    "        as_factor(grouped_columns$Predictor)\n",
    "        as_factor(grouped_columns$Response)\n",
    "        \n",
    "        \n",
    "        filtered_response_yes <- filter(grouped_columns, Predictor == 1)[,2]\n",
    "\n",
    "        number_survived_yes <- nrow(filter(filtered_response_yes, Response == 0))\n",
    "        \n",
    "        result_list[i] <- number_survived_yes/nrow(filtered_response_yes)*100\n",
    "        \n",
    "    }\n",
    "    \n",
    "    result_list\n",
    "        \n",
    "}\n",
    "\n",
    "\n",
    "\n",
    "find_ratio_no <- function(dat) {\n",
    "    \n",
    "    result_list <- c()\n",
    "    \n",
    "    categ_pred_only_data <- dat |> \n",
    "        select(anaemia, diabetes, high_blood_pressure, sex, smoking, DEATH_EVENT)\n",
    "    \n",
    "    for (i in 1:5) {\n",
    "        \n",
    "        curr_column <- categ_pred_only_data[,i]\n",
    "        death_event_column <- categ_pred_only_data[,length(categ_pred_only_data)]\n",
    "        grouped_columns <- bind_cols(curr_column, death_event_column)\n",
    "        as_tibble(grouped_columns)\n",
    "        \n",
    "        colnames(grouped_columns) <- c(\"Predictor\", \"Response\")\n",
    "        \n",
    "        as_factor(grouped_columns$Predictor)\n",
    "        as_factor(grouped_columns$Response)\n",
    "        \n",
    "        \n",
    "        filtered_response_no <- filter(grouped_columns, Predictor == 0)[,2]\n",
    "\n",
    "        number_survived_no <- nrow(filter(filtered_response_no, Response == 0))\n",
    "        \n",
    "        result_list[i] <- number_survived_no/nrow(filtered_response_no)*100\n",
    "        \n",
    "    }\n",
    "    \n",
    "    result_list\n",
    "        \n",
    "}\n",
    "\n",
    "ratio_summary_yes <- find_ratio_yes(training_data)\n",
    "\n",
    "ratio_summary_no <- find_ratio_no(training_data)\n",
    "\n",
    "ratio_summary <- c(ratio_summary_yes[1], ratio_summary_no[1],\n",
    "                   ratio_summary_yes[2], ratio_summary_no[2],\n",
    "                   ratio_summary_yes[3], ratio_summary_no[3],\n",
    "                   ratio_summary_yes[4], ratio_summary_no[4],\n",
    "                   ratio_summary_yes[5], ratio_summary_no[5])\n"
   ]
  },
  {
   "cell_type": "code",
   "execution_count": 173,
   "id": "3d969f6a-e9ce-4c50-ae5a-642688684c7a",
   "metadata": {},
   "outputs": [
    {
     "data": {
      "text/html": [
       "<table class=\"dataframe\">\n",
       "<caption>A tibble: 7 × 3</caption>\n",
       "<thead>\n",
       "\t<tr><th scope=col>Predictor</th><th scope=col>Mean of survived patients</th><th scope=col>Mean of dead patients</th></tr>\n",
       "\t<tr><th scope=col>&lt;chr&gt;</th><th scope=col>&lt;dbl&gt;</th><th scope=col>&lt;dbl&gt;</th></tr>\n",
       "</thead>\n",
       "<tbody>\n",
       "\t<tr><td>Age                     </td><td> 59.2675</td><td> 65.5232</td></tr>\n",
       "\t<tr><td>Creatinine phosphokinase</td><td>521.2368</td><td>612.4583</td></tr>\n",
       "\t<tr><td>Ejection fraction       </td><td> 40.4408</td><td> 33.5694</td></tr>\n",
       "\t<tr><td>⋮</td><td>⋮</td><td>⋮</td></tr>\n",
       "\t<tr><td>Serum creatinine       </td><td>  1.2170</td><td>  1.8928</td></tr>\n",
       "\t<tr><td>Serum sodium           </td><td>136.8684</td><td>135.1389</td></tr>\n",
       "\t<tr><td>Follow-up period length</td><td>164.6447</td><td> 74.0139</td></tr>\n",
       "</tbody>\n",
       "</table>\n"
      ],
      "text/latex": [
       "A tibble: 7 × 3\n",
       "\\begin{tabular}{lll}\n",
       " Predictor & Mean of survived patients & Mean of dead patients\\\\\n",
       " <chr> & <dbl> & <dbl>\\\\\n",
       "\\hline\n",
       "\t Age                      &  59.2675 &  65.5232\\\\\n",
       "\t Creatinine phosphokinase & 521.2368 & 612.4583\\\\\n",
       "\t Ejection fraction        &  40.4408 &  33.5694\\\\\n",
       "\t ⋮ & ⋮ & ⋮\\\\\n",
       "\t Serum creatinine        &   1.2170 &   1.8928\\\\\n",
       "\t Serum sodium            & 136.8684 & 135.1389\\\\\n",
       "\t Follow-up period length & 164.6447 &  74.0139\\\\\n",
       "\\end{tabular}\n"
      ],
      "text/markdown": [
       "\n",
       "A tibble: 7 × 3\n",
       "\n",
       "| Predictor &lt;chr&gt; | Mean of survived patients &lt;dbl&gt; | Mean of dead patients &lt;dbl&gt; |\n",
       "|---|---|---|\n",
       "| Age                      |  59.2675 |  65.5232 |\n",
       "| Creatinine phosphokinase | 521.2368 | 612.4583 |\n",
       "| Ejection fraction        |  40.4408 |  33.5694 |\n",
       "| ⋮ | ⋮ | ⋮ |\n",
       "| Serum creatinine        |   1.2170 |   1.8928 |\n",
       "| Serum sodium            | 136.8684 | 135.1389 |\n",
       "| Follow-up period length | 164.6447 |  74.0139 |\n",
       "\n"
      ],
      "text/plain": [
       "  Predictor                Mean of survived patients Mean of dead patients\n",
       "1 Age                       59.2675                   65.5232             \n",
       "2 Creatinine phosphokinase 521.2368                  612.4583             \n",
       "3 Ejection fraction         40.4408                   33.5694             \n",
       "⋮ ⋮                        ⋮                         ⋮                    \n",
       "5 Serum creatinine           1.2170                    1.8928             \n",
       "6 Serum sodium             136.8684                  135.1389             \n",
       "7 Follow-up period length  164.6447                   74.0139             "
      ]
     },
     "metadata": {},
     "output_type": "display_data"
    }
   ],
   "source": [
    "# Create summary table 1\n",
    "table_1 <- tibble(numerical_preds, round(mean_summary_survived, 4), round(mean_summary_dead, 4))\n",
    "colnames(table_1) <- c(\"Predictor\", \"Mean of survived patients\", \"Mean of dead patients\")\n",
    "head(table_1, 7)"
   ]
  },
  {
   "cell_type": "code",
   "execution_count": 189,
   "id": "c45c8aa7-e20b-485f-8bed-c326b7fd1ed0",
   "metadata": {},
   "outputs": [
    {
     "data": {
      "text/html": [
       "<table class=\"dataframe\">\n",
       "<caption>A tibble: 10 × 2</caption>\n",
       "<thead>\n",
       "\t<tr><th scope=col>Predictor</th><th scope=col>Percentage of survived patients</th></tr>\n",
       "\t<tr><th scope=col>&lt;chr&gt;</th><th scope=col>&lt;dbl&gt;</th></tr>\n",
       "</thead>\n",
       "<tbody>\n",
       "\t<tr><td>Anaemia   </td><td>62.3656</td></tr>\n",
       "\t<tr><td>No anameia</td><td>71.7557</td></tr>\n",
       "\t<tr><td>Diabetes  </td><td>68.4783</td></tr>\n",
       "\t<tr><td>⋮</td><td>⋮</td></tr>\n",
       "\t<tr><td>Female    </td><td>64.1975</td></tr>\n",
       "\t<tr><td>Smoker    </td><td>70.8333</td></tr>\n",
       "\t<tr><td>Non-smoker</td><td>66.4474</td></tr>\n",
       "</tbody>\n",
       "</table>\n"
      ],
      "text/latex": [
       "A tibble: 10 × 2\n",
       "\\begin{tabular}{ll}\n",
       " Predictor & Percentage of survived patients\\\\\n",
       " <chr> & <dbl>\\\\\n",
       "\\hline\n",
       "\t Anaemia    & 62.3656\\\\\n",
       "\t No anameia & 71.7557\\\\\n",
       "\t Diabetes   & 68.4783\\\\\n",
       "\t ⋮ & ⋮\\\\\n",
       "\t Female     & 64.1975\\\\\n",
       "\t Smoker     & 70.8333\\\\\n",
       "\t Non-smoker & 66.4474\\\\\n",
       "\\end{tabular}\n"
      ],
      "text/markdown": [
       "\n",
       "A tibble: 10 × 2\n",
       "\n",
       "| Predictor &lt;chr&gt; | Percentage of survived patients &lt;dbl&gt; |\n",
       "|---|---|\n",
       "| Anaemia    | 62.3656 |\n",
       "| No anameia | 71.7557 |\n",
       "| Diabetes   | 68.4783 |\n",
       "| ⋮ | ⋮ |\n",
       "| Female     | 64.1975 |\n",
       "| Smoker     | 70.8333 |\n",
       "| Non-smoker | 66.4474 |\n",
       "\n"
      ],
      "text/plain": [
       "   Predictor  Percentage of survived patients\n",
       "1  Anaemia    62.3656                        \n",
       "2  No anameia 71.7557                        \n",
       "3  Diabetes   68.4783                        \n",
       "⋮  ⋮          ⋮                              \n",
       "8  Female     64.1975                        \n",
       "9  Smoker     70.8333                        \n",
       "10 Non-smoker 66.4474                        "
      ]
     },
     "metadata": {},
     "output_type": "display_data"
    }
   ],
   "source": [
    "# Create summary table 2\n",
    "table_2 <- tibble(categorical_preds, round(ratio_summary, 4))\n",
    "colnames(table_2) <- c(\"Predictor\", \"Percentage of survived patients\")\n",
    "head(table_2, 10)"
   ]
  },
  {
   "cell_type": "code",
   "execution_count": 200,
   "id": "415c7c69-29d1-468f-8e32-1e5bf0aaf91d",
   "metadata": {},
   "outputs": [
    {
     "data": {
      "text/plain": [
       "$x\n",
       "[1] \"Blood serum creatinine level (mg/dL)\"\n",
       "\n",
       "$fill\n",
       "[1] \"Survival status\"\n",
       "\n",
       "attr(,\"class\")\n",
       "[1] \"labels\""
      ]
     },
     "metadata": {},
     "output_type": "display_data"
    },
    {
     "name": "stderr",
     "output_type": "stream",
     "text": [
      "`stat_bin()` using `bins = 30`. Pick better value with `binwidth`.\n",
      "\n"
     ]
    },
    {
     "data": {
      "text/plain": [
       "$x\n",
       "[1] \"Ejection fraction\"\n",
       "\n",
       "$fill\n",
       "[1] \"Survival status\"\n",
       "\n",
       "attr(,\"class\")\n",
       "[1] \"labels\""
      ]
     },
     "metadata": {},
     "output_type": "display_data"
    },
    {
     "name": "stderr",
     "output_type": "stream",
     "text": [
      "`stat_bin()` using `bins = 30`. Pick better value with `binwidth`.\n",
      "\n"
     ]
    },
    {
     "data": {
      "image/png": "[encoded data removed]",
      "text/plain": [
       "plot without title"
      ]
     },
     "metadata": {
      "image/png": {
       "height": 420,
       "width": 420
      }
     },
     "output_type": "display_data"
    },
    {
     "data": {
      "image/png": "[encoded data removed]",
      "text/plain": [
       "plot without title"
      ]
     },
     "metadata": {
      "image/png": {
       "height": 420,
       "width": 420
      }
     },
     "output_type": "display_data"
    }
   ],
   "source": [
    "# Plots\n",
    "\n",
    "plot1 <- training_data |>\n",
    "    ggplot(aes(x = creatinine_phosphokinase, fill = DEATH_EVENT)) +\n",
    "    geom_histogram() +\n",
    "    facet_grid(~DEATH_EVENT)\n",
    "    labs(x = \"Blood serum creatinine level (mg/dL)\",\n",
    "         fill = \"Survival status\")\n",
    "\n",
    "plot1\n",
    "\n",
    "plot2 <- training_data |>\n",
    "    ggplot(aes(x = ejection_fraction, fill = DEATH_EVENT)) +\n",
    "    geom_histogram() +\n",
    "    facet_grid(~DEATH_EVENT)\n",
    "    labs(x = \"Ejection fraction\",\n",
    "         fill = \"Survival status\")\n",
    "\n",
    "plot2"
   ]
  }
 ],
 "metadata": {
  "kernelspec": {
   "display_name": "R",
   "language": "R",
   "name": "ir"
  },
  "language_info": {
   "codemirror_mode": "r",
   "file_extension": ".r",
   "mimetype": "text/x-r-source",
   "name": "R",
   "pygments_lexer": "r",
   "version": "4.1.3"
  }
 },
 "nbformat": 4,
 "nbformat_minor": 5
}
