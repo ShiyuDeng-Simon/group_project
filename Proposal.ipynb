{
 "cells": [
  {
   "cell_type": "markdown",
   "id": "c481b43f-f69f-4e1f-a235-106dae89cb3a",
   "metadata": {},
   "source": [
    "Introduction\n",
    "\n",
    "Heart failure occurs when the damaged or weakened heart muscle is unbale to pump blood efficiently to meet body’s needs. It is often caused by other medical conditions, such as high blood pressure and diabetes. \n",
    "\n",
    "In this project, we will use the “Heart Failure Prediction” dataset on Kaggle to build models and predict the mortality of heart failure patient with the following 11 predictors:\n",
    "•\tAge\n",
    "•\tAnaemia\n",
    "•\tCreatinine phosphokinase\n",
    "•\tDiabetes\n",
    "•\tEjection fraction\n",
    "•\tHigh blood pressure\n",
    "•\tPlatelets\n",
    "•\tSerum creatinine\n",
    "•\tSerum sodium\n",
    "•\tSex\n",
    "•\tSmoking\n",
    "\n",
    "The question this project tries to answer is, which predictor(s) are good for a model where given the information of a heart failure patient, are they going to survive or not after some period of time.\n"
   ]
  },
  {
   "cell_type": "code",
   "execution_count": null,
   "id": "d7c64429-5c6e-49ae-bc0f-68619f98e5e7",
   "metadata": {},
   "outputs": [],
   "source": []
  }
 ],
 "metadata": {
  "kernelspec": {
   "display_name": "R",
   "language": "R",
   "name": "ir"
  },
  "language_info": {
   "codemirror_mode": "r",
   "file_extension": ".r",
   "mimetype": "text/x-r-source",
   "name": "R",
   "pygments_lexer": "r",
   "version": "4.1.3"
  }
 },
 "nbformat": 4,
 "nbformat_minor": 5
}
