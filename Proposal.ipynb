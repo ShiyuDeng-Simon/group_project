{
 "cells": [
  {
   "cell_type": "markdown",
   "id": "c481b43f-f69f-4e1f-a235-106dae89cb3a",
   "metadata": {},
   "source": [
    "#### Introduction\n",
    "\n",
    "Heart failure occurs when the damaged or weakened heart muscle is unbale to pump blood efficiently to meet body’s needs. According to mayo clinic, the risk factors of heart failure include but not limited to high blood pressure, diabetes, and smoking. This leads to the question of which predictor(s) are good for a model where given the information of a heart failure patient, are they going to survive or not after some period of time. To answer this question, we will build models to analyze the “Heart Failure Prediction” dataset on Public Library of Science, authoured by Tanvir Ahmad, Assia Munir, Sajjad Haider Bhatti, Muhammad Aftab, Muhammad Ali Raza in 2017. The 11 predictors we will use from the dataset are:\n",
    "* The patient’s age \n",
    "* Whether they have anaemia\n",
    "* Creatinine phosphokinase level in blood\n",
    "* Whether they have diabetes\n",
    "* Ejection fraction (percentage of blood leaving the heart at each contraction)\n",
    "* If the patient has high blood pressure\n",
    "* Platelets level in blood\n",
    "* Level of serum creatinine in blood\n",
    "* Level of serum sodium in blood\n",
    "* Sex (binary)\n",
    "* If the patient smokes"
   ]
  },
  {
   "cell_type": "code",
   "execution_count": null,
   "id": "d7c64429-5c6e-49ae-bc0f-68619f98e5e7",
   "metadata": {},
   "outputs": [],
   "source": []
  }
 ],
 "metadata": {
  "kernelspec": {
   "display_name": "R",
   "language": "R",
   "name": "ir"
  },
  "language_info": {
   "codemirror_mode": "r",
   "file_extension": ".r",
   "mimetype": "text/x-r-source",
   "name": "R",
   "pygments_lexer": "r",
   "version": "4.1.3"
  }
 },
 "nbformat": 4,
 "nbformat_minor": 5
}
